{
 "cells": [
  {
   "cell_type": "code",
   "execution_count": 13,
   "id": "ff9bd02d-166f-4d70-a161-bf7284d26475",
   "metadata": {},
   "outputs": [],
   "source": [
    "import os\n",
    "import glob\n",
    "import pandas as pd\n",
    "extension = 'csv'\n",
    "all_filenames = [i for i in glob.glob('*.{}'.format(extension))]\n",
    "#combine all files in the list\n",
    "combined_csv = pd.concat([pd.read_csv(f) for f in filenames ])\n",
    "#export to csv\n",
    "combined_csv.to_csv( \"log.csv\", index=False, encoding='utf-8-sig')"
   ]
  },
  {
   "cell_type": "code",
   "execution_count": 3,
   "id": "162586ae-b277-4744-bb75-2cc554b655cd",
   "metadata": {},
   "outputs": [
    {
     "data": {
      "text/plain": [
       "['8_history_05.csv',\n",
       " '8_history_10.csv',\n",
       " '8_history_100.csv',\n",
       " '8_history_105.csv',\n",
       " '8_history_110.csv',\n",
       " '8_history_115.csv',\n",
       " '8_history_120.csv',\n",
       " '8_history_125.csv',\n",
       " '8_history_130.csv',\n",
       " '8_history_135.csv',\n",
       " '8_history_140.csv',\n",
       " '8_history_145.csv',\n",
       " '8_history_15.csv',\n",
       " '8_history_150.csv',\n",
       " '8_history_155.csv',\n",
       " '8_history_160.csv',\n",
       " '8_history_165.csv',\n",
       " '8_history_170.csv',\n",
       " '8_history_175.csv',\n",
       " '8_history_180.csv',\n",
       " '8_history_185.csv',\n",
       " '8_history_190.csv',\n",
       " '8_history_20.csv',\n",
       " '8_history_25.csv',\n",
       " '8_history_30.csv',\n",
       " '8_history_35.csv',\n",
       " '8_history_40.csv',\n",
       " '8_history_45.csv',\n",
       " '8_history_50.csv',\n",
       " '8_history_55.csv',\n",
       " '8_history_60.csv',\n",
       " '8_history_65.csv',\n",
       " '8_history_70.csv',\n",
       " '8_history_75.csv',\n",
       " '8_history_80.csv',\n",
       " '8_history_85.csv',\n",
       " '8_history_90.csv',\n",
       " '8_history_95.csv']"
      ]
     },
     "execution_count": 3,
     "metadata": {},
     "output_type": "execute_result"
    }
   ],
   "source": [
    "all_filenames"
   ]
  },
  {
   "cell_type": "code",
   "execution_count": 11,
   "id": "8f68acd7-3e42-46f0-909f-851880deea00",
   "metadata": {},
   "outputs": [],
   "source": [
    "filenames = ['8_history_05.csv']\n",
    "for i in range(2, 39):\n",
    "        filenames.append('8_history_' + str(i * 5) + '.csv')"
   ]
  },
  {
   "cell_type": "code",
   "execution_count": 12,
   "id": "d594072f-c7c0-47d1-bdff-6f9b83253db0",
   "metadata": {},
   "outputs": [
    {
     "data": {
      "text/plain": [
       "['8_history_05.csv',\n",
       " '8_history_10.csv',\n",
       " '8_history_15.csv',\n",
       " '8_history_20.csv',\n",
       " '8_history_25.csv',\n",
       " '8_history_30.csv',\n",
       " '8_history_35.csv',\n",
       " '8_history_40.csv',\n",
       " '8_history_45.csv',\n",
       " '8_history_50.csv',\n",
       " '8_history_55.csv',\n",
       " '8_history_60.csv',\n",
       " '8_history_65.csv',\n",
       " '8_history_70.csv',\n",
       " '8_history_75.csv',\n",
       " '8_history_80.csv',\n",
       " '8_history_85.csv',\n",
       " '8_history_90.csv',\n",
       " '8_history_95.csv',\n",
       " '8_history_100.csv',\n",
       " '8_history_105.csv',\n",
       " '8_history_110.csv',\n",
       " '8_history_115.csv',\n",
       " '8_history_120.csv',\n",
       " '8_history_125.csv',\n",
       " '8_history_130.csv',\n",
       " '8_history_135.csv',\n",
       " '8_history_140.csv',\n",
       " '8_history_145.csv',\n",
       " '8_history_150.csv',\n",
       " '8_history_155.csv',\n",
       " '8_history_160.csv',\n",
       " '8_history_165.csv',\n",
       " '8_history_170.csv',\n",
       " '8_history_175.csv',\n",
       " '8_history_180.csv',\n",
       " '8_history_185.csv',\n",
       " '8_history_190.csv']"
      ]
     },
     "execution_count": 12,
     "metadata": {},
     "output_type": "execute_result"
    }
   ],
   "source": [
    "filenames"
   ]
  },
  {
   "cell_type": "code",
   "execution_count": 9,
   "id": "176081d3-8ec4-4db3-8d79-1fddb9b011af",
   "metadata": {},
   "outputs": [
    {
     "data": {
      "text/plain": [
       "38"
      ]
     },
     "execution_count": 9,
     "metadata": {},
     "output_type": "execute_result"
    }
   ],
   "source": [
    "len(all_filenames)"
   ]
  },
  {
   "cell_type": "code",
   "execution_count": null,
   "id": "eb76bada-2764-4e5d-bbe6-301a229d7970",
   "metadata": {},
   "outputs": [],
   "source": []
  }
 ],
 "metadata": {
  "kernelspec": {
   "display_name": "Python 3 (ipykernel)",
   "language": "python",
   "name": "python3"
  },
  "language_info": {
   "codemirror_mode": {
    "name": "ipython",
    "version": 3
   },
   "file_extension": ".py",
   "mimetype": "text/x-python",
   "name": "python",
   "nbconvert_exporter": "python",
   "pygments_lexer": "ipython3",
   "version": "3.10.0"
  }
 },
 "nbformat": 4,
 "nbformat_minor": 5
}
