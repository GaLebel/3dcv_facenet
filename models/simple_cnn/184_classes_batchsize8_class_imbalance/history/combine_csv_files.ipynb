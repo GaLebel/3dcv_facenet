{
 "cells": [
  {
   "cell_type": "code",
   "execution_count": 5,
   "id": "ff9bd02d-166f-4d70-a161-bf7284d26475",
   "metadata": {},
   "outputs": [],
   "source": [
    "import os\n",
    "import glob\n",
    "import pandas as pd\n",
    "extension = 'csv'\n",
    "all_filenames = [i for i in glob.glob('*.{}'.format(extension))]\n",
    "#combine all files in the list\n",
    "combined_csv = pd.concat([pd.read_csv(f) for f in all_filenames ])\n",
    "#export to csv\n",
    "combined_csv.to_csv( \"log.csv\", index=False, encoding='utf-8-sig')"
   ]
  },
  {
   "cell_type": "code",
   "execution_count": 6,
   "id": "162586ae-b277-4744-bb75-2cc554b655cd",
   "metadata": {},
   "outputs": [
    {
     "data": {
      "text/plain": [
       "['8_history_05.csv',\n",
       " '8_history_06.csv',\n",
       " '8_history_07.csv',\n",
       " '8_history_08.csv',\n",
       " '8_history_09.csv',\n",
       " '8_history_10.csv',\n",
       " '8_history_11.csv',\n",
       " '8_history_12.csv',\n",
       " '8_history_13.csv',\n",
       " '8_history_14.csv',\n",
       " '8_history_15.csv',\n",
       " '8_history_16.csv',\n",
       " '8_history_17.csv',\n",
       " '8_history_18.csv',\n",
       " '8_history_19.csv',\n",
       " '8_history_20.csv',\n",
       " '8_history_21.csv',\n",
       " '8_history_22.csv',\n",
       " '8_history_23.csv',\n",
       " '8_history_24.csv',\n",
       " '8_history_25.csv',\n",
       " '8_history_26.csv',\n",
       " '8_history_27.csv',\n",
       " '8_history_28.csv',\n",
       " '8_history_29.csv',\n",
       " '8_history_30.csv',\n",
       " '8_history_31.csv',\n",
       " '8_history_32.csv',\n",
       " '8_history_33.csv',\n",
       " '8_history_34.csv',\n",
       " '8_history_35.csv',\n",
       " '8_history_36.csv',\n",
       " '8_history_37.csv',\n",
       " '8_history_38.csv',\n",
       " '8_history_39.csv',\n",
       " '8_history_40.csv',\n",
       " '8_history_41.csv',\n",
       " '8_history_42.csv',\n",
       " '8_history_43.csv',\n",
       " '8_history_44.csv']"
      ]
     },
     "execution_count": 6,
     "metadata": {},
     "output_type": "execute_result"
    }
   ],
   "source": [
    "all_filenames"
   ]
  },
  {
   "cell_type": "code",
   "execution_count": null,
   "id": "d594072f-c7c0-47d1-bdff-6f9b83253db0",
   "metadata": {},
   "outputs": [],
   "source": []
  }
 ],
 "metadata": {
  "kernelspec": {
   "display_name": "Python 3 (ipykernel)",
   "language": "python",
   "name": "python3"
  },
  "language_info": {
   "codemirror_mode": {
    "name": "ipython",
    "version": 3
   },
   "file_extension": ".py",
   "mimetype": "text/x-python",
   "name": "python",
   "nbconvert_exporter": "python",
   "pygments_lexer": "ipython3",
   "version": "3.10.0"
  }
 },
 "nbformat": 4,
 "nbformat_minor": 5
}
