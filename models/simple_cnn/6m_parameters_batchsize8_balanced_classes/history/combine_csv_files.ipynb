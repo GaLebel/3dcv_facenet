{
 "cells": [
  {
   "cell_type": "code",
   "execution_count": 5,
   "id": "ff9bd02d-166f-4d70-a161-bf7284d26475",
   "metadata": {},
   "outputs": [],
   "source": [
    "import os\n",
    "import glob\n",
    "import pandas as pd\n",
    "extension = 'csv'\n",
    "all_filenames = [i for i in glob.glob('*.{}'.format(extension))]\n",
    "#combine all files in the list\n",
    "combined_csv = pd.concat([pd.read_csv(f) for f in all_filenames ])\n",
    "#export to csv\n",
    "combined_csv.to_csv( \"log.csv\", index=False, encoding='utf-8-sig')"
   ]
  },
  {
   "cell_type": "code",
   "execution_count": 4,
   "id": "162586ae-b277-4744-bb75-2cc554b655cd",
   "metadata": {},
   "outputs": [
    {
     "data": {
      "text/plain": [
       "['8_history_05.csv',\n",
       " '8_history_10.csv',\n",
       " '8_history_15.csv',\n",
       " '8_history_20.csv',\n",
       " '8_history_25.csv',\n",
       " '8_history_30.csv',\n",
       " '8_history_35.csv',\n",
       " '8_history_40.csv',\n",
       " '8_history_45.csv',\n",
       " '8_history_50.csv',\n",
       " '8_history_55.csv',\n",
       " '8_history_60.csv',\n",
       " '8_history_65.csv',\n",
       " '8_history_70.csv']"
      ]
     },
     "execution_count": 4,
     "metadata": {},
     "output_type": "execute_result"
    }
   ],
   "source": [
    "all_filenames"
   ]
  },
  {
   "cell_type": "code",
   "execution_count": null,
   "id": "d594072f-c7c0-47d1-bdff-6f9b83253db0",
   "metadata": {},
   "outputs": [],
   "source": []
  }
 ],
 "metadata": {
  "kernelspec": {
   "display_name": "Python 3 (ipykernel)",
   "language": "python",
   "name": "python3"
  },
  "language_info": {
   "codemirror_mode": {
    "name": "ipython",
    "version": 3
   },
   "file_extension": ".py",
   "mimetype": "text/x-python",
   "name": "python",
   "nbconvert_exporter": "python",
   "pygments_lexer": "ipython3",
   "version": "3.10.0"
  }
 },
 "nbformat": 4,
 "nbformat_minor": 5
}
