{
 "cells": [
  {
   "cell_type": "code",
   "execution_count": 2,
   "id": "04139e7b-8190-426c-9b5c-56e1b3123a6a",
   "metadata": {},
   "outputs": [],
   "source": [
    "from tensorflow import keras\n",
    "import pandas as pd\n",
    "import numpy as np\n",
    "import json\n",
    "import os\n",
    "pd.set_option('display.max_colwidth', None)"
   ]
  },
  {
   "cell_type": "code",
   "execution_count": 45,
   "id": "4581d887-f355-4b03-ab4e-182a81799e4e",
   "metadata": {},
   "outputs": [],
   "source": [
    "# function to load training & test sets into DataFrames\n",
    "def load_data(filename : str):\n",
    "    meta = pd.read_csv(filename).reset_index()\n",
    "    actors = meta['actor_name']\n",
    "    paths = meta['path']\n",
    "    meta = np.vstack((actors, paths))\n",
    "    meta_df = pd.DataFrame(meta).T\n",
    "    meta_df.columns = ['actor_name', 'path']\n",
    "    return meta_df\n",
    "\n",
    "# predict a class using img file\n",
    "def predict_class(filepath):\n",
    "    import cv2\n",
    "    img = cv2.imread(filepath)\n",
    "    resized_img = cv2.resize(img, (128, 128))\n",
    "    resized_img = resized_img.reshape(1, 128, 128, 3)\n",
    "    return lookup_table[str(np.argmax(model.predict(resized_img)))]"
   ]
  },
  {
   "cell_type": "code",
   "execution_count": 6,
   "id": "b0799951-346b-413f-8039-b5ffe9ede529",
   "metadata": {},
   "outputs": [],
   "source": [
    "## load data of model\n",
    "model = keras.models.load_model('8.h5')\n",
    "train_set = load_data(r'train_set.csv')\n",
    "test_set = load_data(r'test_set.csv')\n",
    "lookup_table = {}\n",
    "with open('lookup_table.json', 'r') as f:\n",
    "    lookup_table = json.loads(f.read())\n",
    "# lookup_table2 = json.loads(lookup_table)"
   ]
  },
  {
   "cell_type": "code",
   "execution_count": null,
   "id": "679f940f-cfdb-4599-ab81-af2846362e87",
   "metadata": {},
   "outputs": [],
   "source": [
    "print(predict_class(filepath))"
   ]
  }
 ],
 "metadata": {
  "kernelspec": {
   "display_name": "Python 3 (ipykernel)",
   "language": "python",
   "name": "python3"
  },
  "language_info": {
   "codemirror_mode": {
    "name": "ipython",
    "version": 3
   },
   "file_extension": ".py",
   "mimetype": "text/x-python",
   "name": "python",
   "nbconvert_exporter": "python",
   "pygments_lexer": "ipython3",
   "version": "3.10.0"
  }
 },
 "nbformat": 4,
 "nbformat_minor": 5
}
